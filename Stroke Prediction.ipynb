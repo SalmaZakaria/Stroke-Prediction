{
 "cells": [
  {
   "cell_type": "markdown",
   "id": "5f7db736",
   "metadata": {
    "papermill": {
     "duration": 0.013114,
     "end_time": "2023-01-19T00:02:03.522758",
     "exception": false,
     "start_time": "2023-01-19T00:02:03.509644",
     "status": "completed"
    },
    "tags": []
   },
   "source": [
    "## Importing Libraries"
   ]
  },
  {
   "cell_type": "code",
   "execution_count": 49,
   "id": "409a52b6",
   "metadata": {
    "execution": {
     "iopub.execute_input": "2023-01-19T00:02:03.546296Z",
     "iopub.status.busy": "2023-01-19T00:02:03.545512Z",
     "iopub.status.idle": "2023-01-19T00:02:05.869475Z",
     "shell.execute_reply": "2023-01-19T00:02:05.868064Z"
    },
    "papermill": {
     "duration": 2.338982,
     "end_time": "2023-01-19T00:02:05.872498",
     "exception": false,
     "start_time": "2023-01-19T00:02:03.533516",
     "status": "completed"
    },
    "tags": []
   },
   "outputs": [],
   "source": [
    "import matplotlib.pyplot as plt\n",
    "import numpy as np\n",
    "import pandas as pd\n",
    "from sklearn.preprocessing import MinMaxScaler\n",
    "import seaborn as sns\n",
    "from sklearn.linear_model import LogisticRegression, SGDClassifier\n",
    "from sklearn.model_selection import StratifiedKFold\n",
    "from sklearn.metrics import roc_auc_score, accuracy_score\n",
    "from lightgbm.sklearn import LGBMClassifier"
   ]
  },
  {
   "cell_type": "markdown",
   "id": "6a241836",
   "metadata": {
    "papermill": {
     "duration": 0.012869,
     "end_time": "2023-01-19T00:02:05.895964",
     "exception": false,
     "start_time": "2023-01-19T00:02:05.883095",
     "status": "completed"
    },
    "tags": []
   },
   "source": [
    "## Reading Data"
   ]
  },
  {
   "cell_type": "code",
   "execution_count": 51,
   "id": "bf8d73bd",
   "metadata": {
    "execution": {
     "iopub.execute_input": "2023-01-19T00:02:05.918333Z",
     "iopub.status.busy": "2023-01-19T00:02:05.917894Z",
     "iopub.status.idle": "2023-01-19T00:02:06.002134Z",
     "shell.execute_reply": "2023-01-19T00:02:06.000670Z"
    },
    "papermill": {
     "duration": 0.098628,
     "end_time": "2023-01-19T00:02:06.005041",
     "exception": false,
     "start_time": "2023-01-19T00:02:05.906413",
     "status": "completed"
    },
    "tags": []
   },
   "outputs": [],
   "source": [
    "TrainData = pd.read_csv('train.csv')\n",
    "TestData = pd.read_csv('test.csv')"
   ]
  },
  {
   "cell_type": "markdown",
   "id": "96649a9a",
   "metadata": {
    "papermill": {
     "duration": 0.009618,
     "end_time": "2023-01-19T00:02:06.024984",
     "exception": false,
     "start_time": "2023-01-19T00:02:06.015366",
     "status": "completed"
    },
    "tags": []
   },
   "source": [
    "## Exploring Data"
   ]
  },
  {
   "cell_type": "code",
   "execution_count": 52,
   "id": "a10d147a",
   "metadata": {
    "execution": {
     "iopub.execute_input": "2023-01-19T00:02:06.046804Z",
     "iopub.status.busy": "2023-01-19T00:02:06.046367Z",
     "iopub.status.idle": "2023-01-19T00:02:06.070031Z",
     "shell.execute_reply": "2023-01-19T00:02:06.068806Z"
    },
    "papermill": {
     "duration": 0.037664,
     "end_time": "2023-01-19T00:02:06.072680",
     "exception": false,
     "start_time": "2023-01-19T00:02:06.035016",
     "status": "completed"
    },
    "tags": []
   },
   "outputs": [
    {
     "data": {
      "text/html": [
       "<div>\n",
       "<style scoped>\n",
       "    .dataframe tbody tr th:only-of-type {\n",
       "        vertical-align: middle;\n",
       "    }\n",
       "\n",
       "    .dataframe tbody tr th {\n",
       "        vertical-align: top;\n",
       "    }\n",
       "\n",
       "    .dataframe thead th {\n",
       "        text-align: right;\n",
       "    }\n",
       "</style>\n",
       "<table border=\"1\" class=\"dataframe\">\n",
       "  <thead>\n",
       "    <tr style=\"text-align: right;\">\n",
       "      <th></th>\n",
       "      <th>id</th>\n",
       "      <th>gender</th>\n",
       "      <th>age</th>\n",
       "      <th>hypertension</th>\n",
       "      <th>heart_disease</th>\n",
       "      <th>ever_married</th>\n",
       "      <th>work_type</th>\n",
       "      <th>Residence_type</th>\n",
       "      <th>avg_glucose_level</th>\n",
       "      <th>bmi</th>\n",
       "      <th>smoking_status</th>\n",
       "      <th>stroke</th>\n",
       "    </tr>\n",
       "  </thead>\n",
       "  <tbody>\n",
       "    <tr>\n",
       "      <th>0</th>\n",
       "      <td>0</td>\n",
       "      <td>Male</td>\n",
       "      <td>28.0</td>\n",
       "      <td>0</td>\n",
       "      <td>0</td>\n",
       "      <td>Yes</td>\n",
       "      <td>Private</td>\n",
       "      <td>Urban</td>\n",
       "      <td>79.53</td>\n",
       "      <td>31.1</td>\n",
       "      <td>never smoked</td>\n",
       "      <td>0</td>\n",
       "    </tr>\n",
       "    <tr>\n",
       "      <th>1</th>\n",
       "      <td>1</td>\n",
       "      <td>Male</td>\n",
       "      <td>33.0</td>\n",
       "      <td>0</td>\n",
       "      <td>0</td>\n",
       "      <td>Yes</td>\n",
       "      <td>Private</td>\n",
       "      <td>Rural</td>\n",
       "      <td>78.44</td>\n",
       "      <td>23.9</td>\n",
       "      <td>formerly smoked</td>\n",
       "      <td>0</td>\n",
       "    </tr>\n",
       "    <tr>\n",
       "      <th>2</th>\n",
       "      <td>2</td>\n",
       "      <td>Female</td>\n",
       "      <td>42.0</td>\n",
       "      <td>0</td>\n",
       "      <td>0</td>\n",
       "      <td>Yes</td>\n",
       "      <td>Private</td>\n",
       "      <td>Rural</td>\n",
       "      <td>103.00</td>\n",
       "      <td>40.3</td>\n",
       "      <td>Unknown</td>\n",
       "      <td>0</td>\n",
       "    </tr>\n",
       "    <tr>\n",
       "      <th>3</th>\n",
       "      <td>3</td>\n",
       "      <td>Male</td>\n",
       "      <td>56.0</td>\n",
       "      <td>0</td>\n",
       "      <td>0</td>\n",
       "      <td>Yes</td>\n",
       "      <td>Private</td>\n",
       "      <td>Urban</td>\n",
       "      <td>64.87</td>\n",
       "      <td>28.8</td>\n",
       "      <td>never smoked</td>\n",
       "      <td>0</td>\n",
       "    </tr>\n",
       "    <tr>\n",
       "      <th>4</th>\n",
       "      <td>4</td>\n",
       "      <td>Female</td>\n",
       "      <td>24.0</td>\n",
       "      <td>0</td>\n",
       "      <td>0</td>\n",
       "      <td>No</td>\n",
       "      <td>Private</td>\n",
       "      <td>Rural</td>\n",
       "      <td>73.36</td>\n",
       "      <td>28.8</td>\n",
       "      <td>never smoked</td>\n",
       "      <td>0</td>\n",
       "    </tr>\n",
       "  </tbody>\n",
       "</table>\n",
       "</div>"
      ],
      "text/plain": [
       "   id  gender   age  hypertension  heart_disease ever_married work_type  \\\n",
       "0   0    Male  28.0             0              0          Yes   Private   \n",
       "1   1    Male  33.0             0              0          Yes   Private   \n",
       "2   2  Female  42.0             0              0          Yes   Private   \n",
       "3   3    Male  56.0             0              0          Yes   Private   \n",
       "4   4  Female  24.0             0              0           No   Private   \n",
       "\n",
       "  Residence_type  avg_glucose_level   bmi   smoking_status  stroke  \n",
       "0          Urban              79.53  31.1     never smoked       0  \n",
       "1          Rural              78.44  23.9  formerly smoked       0  \n",
       "2          Rural             103.00  40.3          Unknown       0  \n",
       "3          Urban              64.87  28.8     never smoked       0  \n",
       "4          Rural              73.36  28.8     never smoked       0  "
      ]
     },
     "execution_count": 52,
     "metadata": {},
     "output_type": "execute_result"
    }
   ],
   "source": [
    "TrainData.head()"
   ]
  },
  {
   "cell_type": "markdown",
   "id": "77d160fb",
   "metadata": {
    "papermill": {
     "duration": 0.010146,
     "end_time": "2023-01-19T00:02:06.093224",
     "exception": false,
     "start_time": "2023-01-19T00:02:06.083078",
     "status": "completed"
    },
    "tags": []
   },
   "source": [
    "#### Count of Values in Categorical Columns"
   ]
  },
  {
   "cell_type": "code",
   "execution_count": 53,
   "id": "e1381d16",
   "metadata": {
    "execution": {
     "iopub.execute_input": "2023-01-19T00:02:06.115722Z",
     "iopub.status.busy": "2023-01-19T00:02:06.115274Z",
     "iopub.status.idle": "2023-01-19T00:02:06.131755Z",
     "shell.execute_reply": "2023-01-19T00:02:06.130467Z"
    },
    "papermill": {
     "duration": 0.030485,
     "end_time": "2023-01-19T00:02:06.134036",
     "exception": false,
     "start_time": "2023-01-19T00:02:06.103551",
     "status": "completed"
    },
    "tags": []
   },
   "outputs": [
    {
     "data": {
      "text/plain": [
       "0    14672\n",
       "1      632\n",
       "Name: stroke, dtype: int64"
      ]
     },
     "execution_count": 53,
     "metadata": {},
     "output_type": "execute_result"
    }
   ],
   "source": [
    "TrainData['stroke'].value_counts()"
   ]
  },
  {
   "cell_type": "code",
   "execution_count": 54,
   "id": "e76698a0",
   "metadata": {
    "execution": {
     "iopub.execute_input": "2023-01-19T00:02:06.157302Z",
     "iopub.status.busy": "2023-01-19T00:02:06.156895Z",
     "iopub.status.idle": "2023-01-19T00:02:06.166230Z",
     "shell.execute_reply": "2023-01-19T00:02:06.165142Z"
    },
    "papermill": {
     "duration": 0.023813,
     "end_time": "2023-01-19T00:02:06.168787",
     "exception": false,
     "start_time": "2023-01-19T00:02:06.144974",
     "status": "completed"
    },
    "tags": []
   },
   "outputs": [
    {
     "data": {
      "text/plain": [
       "Female    9446\n",
       "Male      5857\n",
       "Other        1\n",
       "Name: gender, dtype: int64"
      ]
     },
     "execution_count": 54,
     "metadata": {},
     "output_type": "execute_result"
    }
   ],
   "source": [
    "TrainData['gender'].value_counts()"
   ]
  },
  {
   "cell_type": "code",
   "execution_count": 55,
   "id": "f61eb372",
   "metadata": {
    "execution": {
     "iopub.execute_input": "2023-01-19T00:02:06.192357Z",
     "iopub.status.busy": "2023-01-19T00:02:06.191822Z",
     "iopub.status.idle": "2023-01-19T00:02:06.202934Z",
     "shell.execute_reply": "2023-01-19T00:02:06.201729Z"
    },
    "papermill": {
     "duration": 0.025753,
     "end_time": "2023-01-19T00:02:06.205307",
     "exception": false,
     "start_time": "2023-01-19T00:02:06.179554",
     "status": "completed"
    },
    "tags": []
   },
   "outputs": [
    {
     "data": {
      "text/plain": [
       "never smoked       6281\n",
       "Unknown            4543\n",
       "formerly smoked    2337\n",
       "smokes             2143\n",
       "Name: smoking_status, dtype: int64"
      ]
     },
     "execution_count": 55,
     "metadata": {},
     "output_type": "execute_result"
    }
   ],
   "source": [
    "TrainData['smoking_status'].value_counts()"
   ]
  },
  {
   "cell_type": "code",
   "execution_count": 56,
   "id": "59151edd",
   "metadata": {
    "execution": {
     "iopub.execute_input": "2023-01-19T00:02:06.228657Z",
     "iopub.status.busy": "2023-01-19T00:02:06.228236Z",
     "iopub.status.idle": "2023-01-19T00:02:06.237862Z",
     "shell.execute_reply": "2023-01-19T00:02:06.236974Z"
    },
    "papermill": {
     "duration": 0.024074,
     "end_time": "2023-01-19T00:02:06.240155",
     "exception": false,
     "start_time": "2023-01-19T00:02:06.216081",
     "status": "completed"
    },
    "tags": []
   },
   "outputs": [
    {
     "data": {
      "text/plain": [
       "Rural    7664\n",
       "Urban    7640\n",
       "Name: Residence_type, dtype: int64"
      ]
     },
     "execution_count": 56,
     "metadata": {},
     "output_type": "execute_result"
    }
   ],
   "source": [
    "TrainData['Residence_type'].value_counts()"
   ]
  },
  {
   "cell_type": "code",
   "execution_count": 57,
   "id": "f451dedd",
   "metadata": {
    "execution": {
     "iopub.execute_input": "2023-01-19T00:02:06.264145Z",
     "iopub.status.busy": "2023-01-19T00:02:06.262942Z",
     "iopub.status.idle": "2023-01-19T00:02:06.272705Z",
     "shell.execute_reply": "2023-01-19T00:02:06.271768Z"
    },
    "papermill": {
     "duration": 0.024084,
     "end_time": "2023-01-19T00:02:06.274963",
     "exception": false,
     "start_time": "2023-01-19T00:02:06.250879",
     "status": "completed"
    },
    "tags": []
   },
   "outputs": [
    {
     "data": {
      "text/plain": [
       "Yes    10385\n",
       "No      4919\n",
       "Name: ever_married, dtype: int64"
      ]
     },
     "execution_count": 57,
     "metadata": {},
     "output_type": "execute_result"
    }
   ],
   "source": [
    "TrainData['ever_married'].value_counts()"
   ]
  },
  {
   "cell_type": "code",
   "execution_count": 58,
   "id": "a2ada5e4",
   "metadata": {
    "execution": {
     "iopub.execute_input": "2023-01-19T00:02:06.298747Z",
     "iopub.status.busy": "2023-01-19T00:02:06.297942Z",
     "iopub.status.idle": "2023-01-19T00:02:06.306802Z",
     "shell.execute_reply": "2023-01-19T00:02:06.305608Z"
    },
    "papermill": {
     "duration": 0.023468,
     "end_time": "2023-01-19T00:02:06.309162",
     "exception": false,
     "start_time": "2023-01-19T00:02:06.285694",
     "status": "completed"
    },
    "tags": []
   },
   "outputs": [
    {
     "data": {
      "text/plain": [
       "0    14543\n",
       "1      761\n",
       "Name: hypertension, dtype: int64"
      ]
     },
     "execution_count": 58,
     "metadata": {},
     "output_type": "execute_result"
    }
   ],
   "source": [
    "TrainData['hypertension'].value_counts()"
   ]
  },
  {
   "cell_type": "code",
   "execution_count": 59,
   "id": "2a3605e8",
   "metadata": {
    "execution": {
     "iopub.execute_input": "2023-01-19T00:02:06.332667Z",
     "iopub.status.busy": "2023-01-19T00:02:06.332230Z",
     "iopub.status.idle": "2023-01-19T00:02:06.341311Z",
     "shell.execute_reply": "2023-01-19T00:02:06.340181Z"
    },
    "papermill": {
     "duration": 0.023391,
     "end_time": "2023-01-19T00:02:06.343564",
     "exception": false,
     "start_time": "2023-01-19T00:02:06.320173",
     "status": "completed"
    },
    "tags": []
   },
   "outputs": [
    {
     "data": {
      "text/plain": [
       "Private          9752\n",
       "children         2038\n",
       "Self-employed    1939\n",
       "Govt_job         1533\n",
       "Never_worked       42\n",
       "Name: work_type, dtype: int64"
      ]
     },
     "execution_count": 59,
     "metadata": {},
     "output_type": "execute_result"
    }
   ],
   "source": [
    "TrainData['work_type'].value_counts()"
   ]
  },
  {
   "cell_type": "code",
   "execution_count": 60,
   "id": "1c3a9ad5",
   "metadata": {
    "execution": {
     "iopub.execute_input": "2023-01-19T00:02:06.367938Z",
     "iopub.status.busy": "2023-01-19T00:02:06.367166Z",
     "iopub.status.idle": "2023-01-19T00:02:06.375179Z",
     "shell.execute_reply": "2023-01-19T00:02:06.373970Z"
    },
    "papermill": {
     "duration": 0.022871,
     "end_time": "2023-01-19T00:02:06.377581",
     "exception": false,
     "start_time": "2023-01-19T00:02:06.354710",
     "status": "completed"
    },
    "tags": []
   },
   "outputs": [
    {
     "data": {
      "text/plain": [
       "0    14947\n",
       "1      357\n",
       "Name: heart_disease, dtype: int64"
      ]
     },
     "execution_count": 60,
     "metadata": {},
     "output_type": "execute_result"
    }
   ],
   "source": [
    "TrainData['heart_disease'].value_counts()"
   ]
  },
  {
   "cell_type": "markdown",
   "id": "9704646d",
   "metadata": {
    "papermill": {
     "duration": 0.010803,
     "end_time": "2023-01-19T00:02:06.399583",
     "exception": false,
     "start_time": "2023-01-19T00:02:06.388780",
     "status": "completed"
    },
    "tags": []
   },
   "source": [
    "#### Check Outliers in Numerical Columns"
   ]
  },
  {
   "cell_type": "code",
   "execution_count": 12,
   "id": "824e8a50",
   "metadata": {
    "execution": {
     "iopub.execute_input": "2023-01-19T00:02:06.423468Z",
     "iopub.status.busy": "2023-01-19T00:02:06.423022Z",
     "iopub.status.idle": "2023-01-19T00:02:06.605206Z",
     "shell.execute_reply": "2023-01-19T00:02:06.604078Z"
    },
    "papermill": {
     "duration": 0.197752,
     "end_time": "2023-01-19T00:02:06.608495",
     "exception": false,
     "start_time": "2023-01-19T00:02:06.410743",
     "status": "completed"
    },
    "tags": []
   },
   "outputs": [
    {
     "data": {
      "text/plain": [
       "Text(0.5, 1.0, 'Age')"
      ]
     },
     "execution_count": 12,
     "metadata": {},
     "output_type": "execute_result"
    },
    {
     "data": {
      "image/png": "[encoded data removed]",
      "text/plain": [
       "<Figure size 432x288 with 1 Axes>"
      ]
     },
     "metadata": {
      "needs_background": "light"
     },
     "output_type": "display_data"
    }
   ],
   "source": [
    "sns.boxplot(x=TrainData['age'],palette='pastel').set_title('Age')"
   ]
  },
  {
   "cell_type": "code",
   "execution_count": 13,
   "id": "92ceab55",
   "metadata": {
    "execution": {
     "iopub.execute_input": "2023-01-19T00:02:06.644143Z",
     "iopub.status.busy": "2023-01-19T00:02:06.643362Z",
     "iopub.status.idle": "2023-01-19T00:02:06.816181Z",
     "shell.execute_reply": "2023-01-19T00:02:06.815000Z"
    },
    "papermill": {
     "duration": 0.196087,
     "end_time": "2023-01-19T00:02:06.818971",
     "exception": false,
     "start_time": "2023-01-19T00:02:06.622884",
     "status": "completed"
    },
    "tags": []
   },
   "outputs": [
    {
     "data": {
      "text/plain": [
       "Text(0.5, 1.0, 'BMI')"
      ]
     },
     "execution_count": 13,
     "metadata": {},
     "output_type": "execute_result"
    },
    {
     "data": {
      "image/png": "[encoded data removed]",
      "text/plain": [
       "<Figure size 432x288 with 1 Axes>"
      ]
     },
     "metadata": {
      "needs_background": "light"
     },
     "output_type": "display_data"
    }
   ],
   "source": [
    "sns.boxplot(x=TrainData['bmi'],palette='pastel').set_title('BMI')"
   ]
  },
  {
   "cell_type": "code",
   "execution_count": 61,
   "id": "256c947b",
   "metadata": {
    "execution": {
     "iopub.execute_input": "2023-01-19T00:02:06.844357Z",
     "iopub.status.busy": "2023-01-19T00:02:06.843942Z",
     "iopub.status.idle": "2023-01-19T00:02:07.010571Z",
     "shell.execute_reply": "2023-01-19T00:02:07.009347Z"
    },
    "papermill": {
     "duration": 0.182409,
     "end_time": "2023-01-19T00:02:07.013319",
     "exception": false,
     "start_time": "2023-01-19T00:02:06.830910",
     "status": "completed"
    },
    "tags": []
   },
   "outputs": [
    {
     "data": {
      "text/plain": [
       "Text(0.5, 1.0, 'Glucose Level')"
      ]
     },
     "execution_count": 61,
     "metadata": {},
     "output_type": "execute_result"
    },
    {
     "data": {
      "image/png": "[encoded data removed]",
      "text/plain": [
       "<Figure size 432x288 with 1 Axes>"
      ]
     },
     "metadata": {
      "needs_background": "light"
     },
     "output_type": "display_data"
    }
   ],
   "source": [
    "sns.boxplot(x=TrainData['avg_glucose_level'],palette='pastel').set_title('Glucose Level')"
   ]
  },
  {
   "cell_type": "markdown",
   "id": "fc2ea7a0",
   "metadata": {
    "papermill": {
     "duration": 0.011931,
     "end_time": "2023-01-19T00:02:07.037481",
     "exception": false,
     "start_time": "2023-01-19T00:02:07.025550",
     "status": "completed"
    },
    "tags": []
   },
   "source": [
    "#### Relation between categorical column and people suffer from stroke"
   ]
  },
  {
   "cell_type": "code",
   "execution_count": 62,
   "id": "636e00bc",
   "metadata": {
    "execution": {
     "iopub.execute_input": "2023-01-19T00:02:07.063403Z",
     "iopub.status.busy": "2023-01-19T00:02:07.062893Z",
     "iopub.status.idle": "2023-01-19T00:02:07.278307Z",
     "shell.execute_reply": "2023-01-19T00:02:07.277015Z"
    },
    "papermill": {
     "duration": 0.231487,
     "end_time": "2023-01-19T00:02:07.280932",
     "exception": false,
     "start_time": "2023-01-19T00:02:07.049445",
     "status": "completed"
    },
    "tags": []
   },
   "outputs": [
    {
     "data": {
      "text/plain": [
       "(array([0, 1]), [Text(0, 0, 'Female'), Text(1, 0, 'Male')])"
      ]
     },
     "execution_count": 62,
     "metadata": {},
     "output_type": "execute_result"
    },
    {
     "data": {
      "image/png": "[encoded data removed]",
      "text/plain": [
       "<Figure size 1800x360 with 1 Axes>"
      ]
     },
     "metadata": {
      "needs_background": "light"
     },
     "output_type": "display_data"
    }
   ],
   "source": [
    "plt.figure(figsize = [25, 5]) \n",
    "base_color = sns.color_palette()[0]\n",
    "Query = TrainData.loc[TrainData['stroke']==1, 'gender'] \n",
    "sns.countplot(x=Query, color = base_color)\n",
    "plt.xticks(rotation=90)"
   ]
  },
  {
   "cell_type": "code",
   "execution_count": 16,
   "id": "f7a82cc2",
   "metadata": {
    "execution": {
     "iopub.execute_input": "2023-01-19T00:02:07.307740Z",
     "iopub.status.busy": "2023-01-19T00:02:07.307311Z",
     "iopub.status.idle": "2023-01-19T00:02:07.503022Z",
     "shell.execute_reply": "2023-01-19T00:02:07.501771Z"
    },
    "papermill": {
     "duration": 0.21219,
     "end_time": "2023-01-19T00:02:07.505782",
     "exception": false,
     "start_time": "2023-01-19T00:02:07.293592",
     "status": "completed"
    },
    "tags": []
   },
   "outputs": [
    {
     "data": {
      "text/plain": [
       "(array([0, 1]), [Text(0, 0, '0'), Text(1, 0, '1')])"
      ]
     },
     "execution_count": 16,
     "metadata": {},
     "output_type": "execute_result"
    },
    {
     "data": {
      "image/png": "[encoded data removed]",
      "text/plain": [
       "<Figure size 1800x360 with 1 Axes>"
      ]
     },
     "metadata": {
      "needs_background": "light"
     },
     "output_type": "display_data"
    }
   ],
   "source": [
    "plt.figure(figsize = [25, 5]) \n",
    "base_color = sns.color_palette()[0]\n",
    "Query = TrainData.loc[TrainData['stroke']==1, 'heart_disease'] \n",
    "sns.countplot(x=Query, color = base_color)\n",
    "plt.xticks(rotation=90)"
   ]
  },
  {
   "cell_type": "code",
   "execution_count": 17,
   "id": "2c59393b",
   "metadata": {
    "execution": {
     "iopub.execute_input": "2023-01-19T00:02:07.533053Z",
     "iopub.status.busy": "2023-01-19T00:02:07.532684Z",
     "iopub.status.idle": "2023-01-19T00:02:07.725172Z",
     "shell.execute_reply": "2023-01-19T00:02:07.723940Z"
    },
    "papermill": {
     "duration": 0.209214,
     "end_time": "2023-01-19T00:02:07.727788",
     "exception": false,
     "start_time": "2023-01-19T00:02:07.518574",
     "status": "completed"
    },
    "tags": []
   },
   "outputs": [
    {
     "data": {
      "text/plain": [
       "(array([0, 1]), [Text(0, 0, '0'), Text(1, 0, '1')])"
      ]
     },
     "execution_count": 17,
     "metadata": {},
     "output_type": "execute_result"
    },
    {
     "data": {
      "image/png": "[encoded data removed]",
      "text/plain": [
       "<Figure size 1800x360 with 1 Axes>"
      ]
     },
     "metadata": {
      "needs_background": "light"
     },
     "output_type": "display_data"
    }
   ],
   "source": [
    "plt.figure(figsize = [25, 5]) \n",
    "base_color = sns.color_palette()[0]\n",
    "Query = TrainData.loc[TrainData['stroke']==1, 'hypertension'] \n",
    "sns.countplot(x=Query, color = base_color)\n",
    "plt.xticks(rotation=90)"
   ]
  },
  {
   "cell_type": "code",
   "execution_count": 18,
   "id": "5c867375",
   "metadata": {
    "execution": {
     "iopub.execute_input": "2023-01-19T00:02:07.756282Z",
     "iopub.status.busy": "2023-01-19T00:02:07.755868Z",
     "iopub.status.idle": "2023-01-19T00:02:07.991118Z",
     "shell.execute_reply": "2023-01-19T00:02:07.989908Z"
    },
    "papermill": {
     "duration": 0.252184,
     "end_time": "2023-01-19T00:02:07.993577",
     "exception": false,
     "start_time": "2023-01-19T00:02:07.741393",
     "status": "completed"
    },
    "tags": []
   },
   "outputs": [
    {
     "data": {
      "text/plain": [
       "(array([0, 1, 2, 3]),\n",
       " [Text(0, 0, 'Private'),\n",
       "  Text(1, 0, 'Self-employed'),\n",
       "  Text(2, 0, 'Govt_job'),\n",
       "  Text(3, 0, 'children')])"
      ]
     },
     "execution_count": 18,
     "metadata": {},
     "output_type": "execute_result"
    },
    {
     "data": {
      "image/png": "[encoded data removed]",
      "text/plain": [
       "<Figure size 1800x360 with 1 Axes>"
      ]
     },
     "metadata": {
      "needs_background": "light"
     },
     "output_type": "display_data"
    }
   ],
   "source": [
    "plt.figure(figsize = [25, 5]) \n",
    "base_color = sns.color_palette()[0]\n",
    "Query = TrainData.loc[TrainData['stroke']==1, 'work_type'] \n",
    "sns.countplot(x=Query, color = base_color)\n",
    "plt.xticks(rotation=90)"
   ]
  },
  {
   "cell_type": "code",
   "execution_count": 19,
   "id": "c4a51f77",
   "metadata": {
    "execution": {
     "iopub.execute_input": "2023-01-19T00:02:08.024055Z",
     "iopub.status.busy": "2023-01-19T00:02:08.022791Z",
     "iopub.status.idle": "2023-01-19T00:02:08.253406Z",
     "shell.execute_reply": "2023-01-19T00:02:08.252377Z"
    },
    "papermill": {
     "duration": 0.248185,
     "end_time": "2023-01-19T00:02:08.255884",
     "exception": false,
     "start_time": "2023-01-19T00:02:08.007699",
     "status": "completed"
    },
    "tags": []
   },
   "outputs": [
    {
     "data": {
      "text/plain": [
       "(array([0, 1, 2, 3]),\n",
       " [Text(0, 0, 'never smoked'),\n",
       "  Text(1, 0, 'formerly smoked'),\n",
       "  Text(2, 0, 'Unknown'),\n",
       "  Text(3, 0, 'smokes')])"
      ]
     },
     "execution_count": 19,
     "metadata": {},
     "output_type": "execute_result"
    },
    {
     "data": {
      "image/png": "[encoded data removed]",
      "text/plain": [
       "<Figure size 1800x360 with 1 Axes>"
      ]
     },
     "metadata": {
      "needs_background": "light"
     },
     "output_type": "display_data"
    }
   ],
   "source": [
    "plt.figure(figsize = [25, 5]) \n",
    "base_color = sns.color_palette()[0]\n",
    "Query = TrainData.loc[TrainData['stroke']==1, 'smoking_status'] \n",
    "sns.countplot(x=Query, color = base_color)\n",
    "plt.xticks(rotation=90)"
   ]
  },
  {
   "cell_type": "markdown",
   "id": "7866e2a0",
   "metadata": {
    "papermill": {
     "duration": 0.013401,
     "end_time": "2023-01-19T00:02:08.283678",
     "exception": false,
     "start_time": "2023-01-19T00:02:08.270277",
     "status": "completed"
    },
    "tags": []
   },
   "source": [
    "## Data Cleaning"
   ]
  },
  {
   "cell_type": "markdown",
   "id": "c22a4b23",
   "metadata": {
    "papermill": {
     "duration": 0.013532,
     "end_time": "2023-01-19T00:02:08.310978",
     "exception": false,
     "start_time": "2023-01-19T00:02:08.297446",
     "status": "completed"
    },
    "tags": []
   },
   "source": [
    "#### Dealing with outliers outliers"
   ]
  },
  {
   "cell_type": "code",
   "execution_count": 20,
   "id": "76ecbed0",
   "metadata": {
    "execution": {
     "iopub.execute_input": "2023-01-19T00:02:08.340934Z",
     "iopub.status.busy": "2023-01-19T00:02:08.339723Z",
     "iopub.status.idle": "2023-01-19T00:02:08.535100Z",
     "shell.execute_reply": "2023-01-19T00:02:08.534307Z"
    },
    "papermill": {
     "duration": 0.213061,
     "end_time": "2023-01-19T00:02:08.537639",
     "exception": false,
     "start_time": "2023-01-19T00:02:08.324578",
     "status": "completed"
    },
    "tags": []
   },
   "outputs": [
    {
     "data": {
      "text/plain": [
       "(array([0, 1]), [Text(0, 0, '0'), Text(1, 0, '1')])"
      ]
     },
     "execution_count": 20,
     "metadata": {},
     "output_type": "execute_result"
    },
    {
     "data": {
      "image/png": "[encoded data removed]",
      "text/plain": [
       "<Figure size 1800x360 with 1 Axes>"
      ]
     },
     "metadata": {
      "needs_background": "light"
     },
     "output_type": "display_data"
    }
   ],
   "source": [
    "## Since High Glucose Level in blood and BMI still has an effect on strokes, outliers won't be removed\n",
    "plt.figure(figsize = [25, 5]) \n",
    "base_color = sns.color_palette()[0]\n",
    "Query = TrainData.loc[TrainData['avg_glucose_level']>145, 'stroke'] \n",
    "sns.countplot(x=Query, color = base_color)\n",
    "plt.xticks(rotation=90)"
   ]
  },
  {
   "cell_type": "code",
   "execution_count": 21,
   "id": "f4139fd3",
   "metadata": {
    "execution": {
     "iopub.execute_input": "2023-01-19T00:02:08.569559Z",
     "iopub.status.busy": "2023-01-19T00:02:08.568387Z",
     "iopub.status.idle": "2023-01-19T00:02:08.900290Z",
     "shell.execute_reply": "2023-01-19T00:02:08.899044Z"
    },
    "papermill": {
     "duration": 0.35078,
     "end_time": "2023-01-19T00:02:08.903102",
     "exception": false,
     "start_time": "2023-01-19T00:02:08.552322",
     "status": "completed"
    },
    "tags": []
   },
   "outputs": [
    {
     "data": {
      "text/plain": [
       "(array([0, 1]), [Text(0, 0, '0'), Text(1, 0, '1')])"
      ]
     },
     "execution_count": 21,
     "metadata": {},
     "output_type": "execute_result"
    },
    {
     "data": {
      "image/png": "[encoded data removed]",
      "text/plain": [
       "<Figure size 1800x360 with 1 Axes>"
      ]
     },
     "metadata": {
      "needs_background": "light"
     },
     "output_type": "display_data"
    }
   ],
   "source": [
    "plt.figure(figsize = [25, 5]) \n",
    "base_color = sns.color_palette()[0]\n",
    "Query = TrainData.loc[TrainData['bmi'] > 40, 'stroke'] \n",
    "sns.countplot(x=Query, color = base_color)\n",
    "plt.xticks(rotation=90)"
   ]
  },
  {
   "cell_type": "code",
   "execution_count": 22,
   "id": "dae4299c",
   "metadata": {
    "execution": {
     "iopub.execute_input": "2023-01-19T00:02:08.934542Z",
     "iopub.status.busy": "2023-01-19T00:02:08.933911Z",
     "iopub.status.idle": "2023-01-19T00:02:08.947392Z",
     "shell.execute_reply": "2023-01-19T00:02:08.946499Z"
    },
    "papermill": {
     "duration": 0.032135,
     "end_time": "2023-01-19T00:02:08.949907",
     "exception": false,
     "start_time": "2023-01-19T00:02:08.917772",
     "status": "completed"
    },
    "tags": []
   },
   "outputs": [],
   "source": [
    "\"\"\"\n",
    "In work_type Column:\n",
    "1- Remove never_worked as it is number very small \n",
    "2- Remove Children as it doesn't affect stroke rate\n",
    "\"\"\"\n",
    "work_type_filtered = TrainData[(TrainData['work_type'] == 'Never_worked') | (TrainData['work_type'] == 'children')].index\n",
    "TrainData.drop(work_type_filtered, inplace=True)\n"
   ]
  },
  {
   "cell_type": "code",
   "execution_count": 23,
   "id": "1d977821",
   "metadata": {
    "execution": {
     "iopub.execute_input": "2023-01-19T00:02:08.982083Z",
     "iopub.status.busy": "2023-01-19T00:02:08.981345Z",
     "iopub.status.idle": "2023-01-19T00:02:08.991103Z",
     "shell.execute_reply": "2023-01-19T00:02:08.990109Z"
    },
    "papermill": {
     "duration": 0.028883,
     "end_time": "2023-01-19T00:02:08.993708",
     "exception": false,
     "start_time": "2023-01-19T00:02:08.964825",
     "status": "completed"
    },
    "tags": []
   },
   "outputs": [],
   "source": [
    "\"\"\"\n",
    "In gender Column:\n",
    "1- Remove other\n",
    "2- Remove Children as it doesn't affect stroke rate\n",
    "\"\"\"\n",
    "gender_filtered = TrainData[(TrainData['gender'] == 'Other')].index\n",
    "TrainData.drop(gender_filtered, inplace=True)\n"
   ]
  },
  {
   "cell_type": "markdown",
   "id": "c0c0eef0",
   "metadata": {
    "papermill": {
     "duration": 0.014056,
     "end_time": "2023-01-19T00:02:09.022375",
     "exception": false,
     "start_time": "2023-01-19T00:02:09.008319",
     "status": "completed"
    },
    "tags": []
   },
   "source": [
    "#### Label Encoder for Categorical Data"
   ]
  },
  {
   "cell_type": "code",
   "execution_count": 24,
   "id": "642012a7",
   "metadata": {
    "execution": {
     "iopub.execute_input": "2023-01-19T00:02:09.053392Z",
     "iopub.status.busy": "2023-01-19T00:02:09.052661Z",
     "iopub.status.idle": "2023-01-19T00:02:09.082404Z",
     "shell.execute_reply": "2023-01-19T00:02:09.081060Z"
    },
    "papermill": {
     "duration": 0.048474,
     "end_time": "2023-01-19T00:02:09.085136",
     "exception": false,
     "start_time": "2023-01-19T00:02:09.036662",
     "status": "completed"
    },
    "tags": []
   },
   "outputs": [],
   "source": [
    "TrainData['gender'] = TrainData['gender'].map({'Female':0, 'Male': 1})\n",
    "TestData['gender'] = TestData['gender'].map({'Female':0, 'Male': 1, 'Other' : 2})\n",
    "TrainData['ever_married'] = TrainData['ever_married'].map({'No':0, 'Yes': 1})\n",
    "TestData['ever_married'] = TestData['ever_married'].map({'No':0, 'Yes': 1})\n",
    "TrainData['work_type'] = TrainData['work_type'].map({'Private':0, 'Self-employed': 1,'Govt_job':2})\n",
    "TestData['work_type'] = TestData['work_type'].map({'Private':0, 'Self-employed': 1,'Govt_job':2, 'children':3, 'Never_worked':4})\n",
    "TrainData['Residence_type'] = TrainData['Residence_type'].map({'Urban':0, 'Rural': 1})\n",
    "TestData['Residence_type'] = TestData['Residence_type'].map({'Urban':0, 'Rural': 1})\n",
    "TrainData['smoking_status'] = TrainData['smoking_status'].map({'never smoked':0, 'Unknown': 1,'formerly smoked':2, 'smokes':3})\n",
    "TestData['smoking_status'] = TestData['smoking_status'].map({'never smoked':0, 'Unknown': 1,'formerly smoked':2, 'smokes':3})"
   ]
  },
  {
   "cell_type": "code",
   "execution_count": 25,
   "id": "012deb51",
   "metadata": {
    "execution": {
     "iopub.execute_input": "2023-01-19T00:02:09.116424Z",
     "iopub.status.busy": "2023-01-19T00:02:09.115976Z",
     "iopub.status.idle": "2023-01-19T00:02:09.127908Z",
     "shell.execute_reply": "2023-01-19T00:02:09.126162Z"
    },
    "papermill": {
     "duration": 0.03064,
     "end_time": "2023-01-19T00:02:09.130624",
     "exception": false,
     "start_time": "2023-01-19T00:02:09.099984",
     "status": "completed"
    },
    "tags": []
   },
   "outputs": [
    {
     "name": "stdout",
     "output_type": "stream",
     "text": [
      "(13224, 10)\n",
      "(13224,)\n",
      "(10204, 10)\n"
     ]
    }
   ],
   "source": [
    "X = TrainData.drop(['id', 'stroke'], axis = 1)\n",
    "Y= TrainData['stroke']\n",
    "XTest = TestData.drop(['id'], axis = 1)\n",
    "testID = TestData['id']\n",
    "print(X.shape)\n",
    "print(Y.shape)\n",
    "print(XTest.shape)"
   ]
  },
  {
   "cell_type": "code",
   "execution_count": 26,
   "id": "ff08ab3f",
   "metadata": {
    "execution": {
     "iopub.execute_input": "2023-01-19T00:02:09.161341Z",
     "iopub.status.busy": "2023-01-19T00:02:09.160920Z",
     "iopub.status.idle": "2023-01-19T00:02:09.176677Z",
     "shell.execute_reply": "2023-01-19T00:02:09.175537Z"
    },
    "papermill": {
     "duration": 0.033764,
     "end_time": "2023-01-19T00:02:09.178972",
     "exception": false,
     "start_time": "2023-01-19T00:02:09.145208",
     "status": "completed"
    },
    "tags": []
   },
   "outputs": [
    {
     "data": {
      "text/html": [
       "<div>\n",
       "<style scoped>\n",
       "    .dataframe tbody tr th:only-of-type {\n",
       "        vertical-align: middle;\n",
       "    }\n",
       "\n",
       "    .dataframe tbody tr th {\n",
       "        vertical-align: top;\n",
       "    }\n",
       "\n",
       "    .dataframe thead th {\n",
       "        text-align: right;\n",
       "    }\n",
       "</style>\n",
       "<table border=\"1\" class=\"dataframe\">\n",
       "  <thead>\n",
       "    <tr style=\"text-align: right;\">\n",
       "      <th></th>\n",
       "      <th>gender</th>\n",
       "      <th>age</th>\n",
       "      <th>hypertension</th>\n",
       "      <th>heart_disease</th>\n",
       "      <th>ever_married</th>\n",
       "      <th>work_type</th>\n",
       "      <th>Residence_type</th>\n",
       "      <th>avg_glucose_level</th>\n",
       "      <th>bmi</th>\n",
       "      <th>smoking_status</th>\n",
       "    </tr>\n",
       "  </thead>\n",
       "  <tbody>\n",
       "    <tr>\n",
       "      <th>0</th>\n",
       "      <td>0</td>\n",
       "      <td>57.0</td>\n",
       "      <td>0</td>\n",
       "      <td>0</td>\n",
       "      <td>1</td>\n",
       "      <td>0</td>\n",
       "      <td>1</td>\n",
       "      <td>82.54</td>\n",
       "      <td>33.4</td>\n",
       "      <td>1</td>\n",
       "    </tr>\n",
       "    <tr>\n",
       "      <th>1</th>\n",
       "      <td>1</td>\n",
       "      <td>70.0</td>\n",
       "      <td>1</td>\n",
       "      <td>0</td>\n",
       "      <td>1</td>\n",
       "      <td>0</td>\n",
       "      <td>0</td>\n",
       "      <td>72.06</td>\n",
       "      <td>28.5</td>\n",
       "      <td>1</td>\n",
       "    </tr>\n",
       "    <tr>\n",
       "      <th>2</th>\n",
       "      <td>0</td>\n",
       "      <td>5.0</td>\n",
       "      <td>0</td>\n",
       "      <td>0</td>\n",
       "      <td>0</td>\n",
       "      <td>3</td>\n",
       "      <td>0</td>\n",
       "      <td>103.72</td>\n",
       "      <td>19.5</td>\n",
       "      <td>1</td>\n",
       "    </tr>\n",
       "    <tr>\n",
       "      <th>3</th>\n",
       "      <td>0</td>\n",
       "      <td>56.0</td>\n",
       "      <td>0</td>\n",
       "      <td>0</td>\n",
       "      <td>1</td>\n",
       "      <td>2</td>\n",
       "      <td>0</td>\n",
       "      <td>69.24</td>\n",
       "      <td>41.4</td>\n",
       "      <td>3</td>\n",
       "    </tr>\n",
       "    <tr>\n",
       "      <th>4</th>\n",
       "      <td>1</td>\n",
       "      <td>32.0</td>\n",
       "      <td>0</td>\n",
       "      <td>0</td>\n",
       "      <td>1</td>\n",
       "      <td>0</td>\n",
       "      <td>1</td>\n",
       "      <td>111.15</td>\n",
       "      <td>30.1</td>\n",
       "      <td>3</td>\n",
       "    </tr>\n",
       "  </tbody>\n",
       "</table>\n",
       "</div>"
      ],
      "text/plain": [
       "   gender   age  hypertension  heart_disease  ever_married  work_type  \\\n",
       "0       0  57.0             0              0             1          0   \n",
       "1       1  70.0             1              0             1          0   \n",
       "2       0   5.0             0              0             0          3   \n",
       "3       0  56.0             0              0             1          2   \n",
       "4       1  32.0             0              0             1          0   \n",
       "\n",
       "   Residence_type  avg_glucose_level   bmi  smoking_status  \n",
       "0               1              82.54  33.4               1  \n",
       "1               0              72.06  28.5               1  \n",
       "2               0             103.72  19.5               1  \n",
       "3               0              69.24  41.4               3  \n",
       "4               1             111.15  30.1               3  "
      ]
     },
     "execution_count": 26,
     "metadata": {},
     "output_type": "execute_result"
    }
   ],
   "source": [
    "XTest.head()"
   ]
  },
  {
   "cell_type": "code",
   "execution_count": 27,
   "id": "84ae29b7",
   "metadata": {
    "execution": {
     "iopub.execute_input": "2023-01-19T00:02:09.210343Z",
     "iopub.status.busy": "2023-01-19T00:02:09.209851Z",
     "iopub.status.idle": "2023-01-19T00:02:09.269024Z",
     "shell.execute_reply": "2023-01-19T00:02:09.267869Z"
    },
    "papermill": {
     "duration": 0.078051,
     "end_time": "2023-01-19T00:02:09.271829",
     "exception": false,
     "start_time": "2023-01-19T00:02:09.193778",
     "status": "completed"
    },
    "tags": []
   },
   "outputs": [],
   "source": [
    "Norm = MinMaxScaler()\n",
    "X_Scale = X.values\n",
    "XTest_Scale = XTest.values\n",
    "X_Scale = Norm.fit_transform(X_Scale) \n",
    "X.loc[:,:] = X_Scale\n",
    "XTest_Scale = Norm.transform(XTest_Scale)\n",
    "XTest.loc[:,:] = XTest_Scale"
   ]
  },
  {
   "cell_type": "markdown",
   "id": "2e5ca771",
   "metadata": {
    "papermill": {
     "duration": 0.015037,
     "end_time": "2023-01-19T00:02:09.301698",
     "exception": false,
     "start_time": "2023-01-19T00:02:09.286661",
     "status": "completed"
    },
    "tags": []
   },
   "source": [
    "## Training ML Model"
   ]
  },
  {
   "cell_type": "code",
   "execution_count": 28,
   "id": "a486302a",
   "metadata": {
    "execution": {
     "iopub.execute_input": "2023-01-19T00:02:09.334086Z",
     "iopub.status.busy": "2023-01-19T00:02:09.333109Z",
     "iopub.status.idle": "2023-01-19T00:02:09.338539Z",
     "shell.execute_reply": "2023-01-19T00:02:09.337386Z"
    },
    "papermill": {
     "duration": 0.023796,
     "end_time": "2023-01-19T00:02:09.340724",
     "exception": false,
     "start_time": "2023-01-19T00:02:09.316928",
     "status": "completed"
    },
    "tags": []
   },
   "outputs": [],
   "source": [
    "models = []\n",
    "skf = StratifiedKFold(n_splits=5)"
   ]
  },
  {
   "cell_type": "code",
   "execution_count": 29,
   "id": "1b93664f",
   "metadata": {
    "execution": {
     "iopub.execute_input": "2023-01-19T00:02:09.371582Z",
     "iopub.status.busy": "2023-01-19T00:02:09.371152Z",
     "iopub.status.idle": "2023-01-19T00:02:09.812731Z",
     "shell.execute_reply": "2023-01-19T00:02:09.811292Z"
    },
    "papermill": {
     "duration": 0.460059,
     "end_time": "2023-01-19T00:02:09.815469",
     "exception": false,
     "start_time": "2023-01-19T00:02:09.355410",
     "status": "completed"
    },
    "tags": []
   },
   "outputs": [
    {
     "name": "stdout",
     "output_type": "stream",
     "text": [
      "mean score: 0.8655\n"
     ]
    }
   ],
   "source": [
    "scores = []\n",
    "for train_index, val_index in skf.split(X, Y):\n",
    "    x_train, x_val = X.iloc[train_index], X.iloc[val_index]\n",
    "    y_train, y_val = Y.iloc[train_index], Y.iloc[val_index]\n",
    "    \n",
    "    model = LGBMClassifier(class_weight='balanced', n_estimators=30, random_state=42)\n",
    "    model.fit(x_train, y_train)\n",
    "\n",
    "    models.append(model)\n",
    "    scores.append(roc_auc_score(y_val, model.predict_proba(x_val)[:, 1]))\n",
    "print(f'mean score: {np.mean(scores):.4f}')"
   ]
  },
  {
   "cell_type": "code",
   "execution_count": 30,
   "id": "eceaea32",
   "metadata": {
    "execution": {
     "iopub.execute_input": "2023-01-19T00:02:09.848520Z",
     "iopub.status.busy": "2023-01-19T00:02:09.848067Z",
     "iopub.status.idle": "2023-01-19T00:02:10.398904Z",
     "shell.execute_reply": "2023-01-19T00:02:10.397663Z"
    },
    "papermill": {
     "duration": 0.570371,
     "end_time": "2023-01-19T00:02:10.402293",
     "exception": false,
     "start_time": "2023-01-19T00:02:09.831922",
     "status": "completed"
    },
    "tags": []
   },
   "outputs": [
    {
     "name": "stdout",
     "output_type": "stream",
     "text": [
      "mean score: 0.8639\n"
     ]
    }
   ],
   "source": [
    "scores = []\n",
    "for train_index, val_index in skf.split(X, Y):\n",
    "    x_train, x_val = X.iloc[train_index], X.iloc[val_index]\n",
    "    y_train, y_val = Y.iloc[train_index], Y.iloc[val_index]\n",
    "\n",
    "    model = SGDClassifier(penalty='elasticnet', loss='log', class_weight='balanced', random_state=42)\n",
    "    model.fit(x_train, y_train)\n",
    "\n",
    "    models.append(model)\n",
    "    scores.append(roc_auc_score(y_val, model.predict_proba(x_val)[:, 1]))\n",
    "print(f'mean score: {np.mean(scores):.4f}')"
   ]
  },
  {
   "cell_type": "code",
   "execution_count": 31,
   "id": "e4dc7b10",
   "metadata": {
    "execution": {
     "iopub.execute_input": "2023-01-19T00:02:10.452346Z",
     "iopub.status.busy": "2023-01-19T00:02:10.451732Z",
     "iopub.status.idle": "2023-01-19T00:02:10.779514Z",
     "shell.execute_reply": "2023-01-19T00:02:10.777628Z"
    },
    "papermill": {
     "duration": 0.357639,
     "end_time": "2023-01-19T00:02:10.784077",
     "exception": false,
     "start_time": "2023-01-19T00:02:10.426438",
     "status": "completed"
    },
    "tags": []
   },
   "outputs": [
    {
     "name": "stdout",
     "output_type": "stream",
     "text": [
      "mean score: 0.8647\n"
     ]
    }
   ],
   "source": [
    "scores = []\n",
    "for train_index, val_index in skf.split(X, Y):\n",
    "    x_train, x_val = X.iloc[train_index], X.iloc[val_index]\n",
    "    y_train, y_val = Y.iloc[train_index], Y.iloc[val_index]\n",
    "    \n",
    "    model = LogisticRegression(max_iter=1000, class_weight='balanced', random_state=42)\n",
    "    model.fit(x_train, y_train)\n",
    "\n",
    "    models.append(model)\n",
    "    scores.append(roc_auc_score(y_val, model.predict_proba(x_val)[:, 1]))\n",
    "print(f'mean score: {np.mean(scores):.4f}')"
   ]
  },
  {
   "cell_type": "code",
   "execution_count": 32,
   "id": "99ee7d07",
   "metadata": {
    "execution": {
     "iopub.execute_input": "2023-01-19T00:02:10.835633Z",
     "iopub.status.busy": "2023-01-19T00:02:10.834964Z",
     "iopub.status.idle": "2023-01-19T00:02:10.970581Z",
     "shell.execute_reply": "2023-01-19T00:02:10.968834Z"
    },
    "papermill": {
     "duration": 0.166448,
     "end_time": "2023-01-19T00:02:10.975481",
     "exception": false,
     "start_time": "2023-01-19T00:02:10.809033",
     "status": "completed"
    },
    "tags": []
   },
   "outputs": [],
   "source": [
    "predictions = []\n",
    "for model in models:\n",
    "    ypred = model.predict_proba(XTest)[:, 1]\n",
    "    predictions.append(ypred)"
   ]
  },
  {
   "cell_type": "code",
   "execution_count": 33,
   "id": "33159429",
   "metadata": {
    "execution": {
     "iopub.execute_input": "2023-01-19T00:02:11.028326Z",
     "iopub.status.busy": "2023-01-19T00:02:11.027749Z",
     "iopub.status.idle": "2023-01-19T00:02:11.040059Z",
     "shell.execute_reply": "2023-01-19T00:02:11.038440Z"
    },
    "papermill": {
     "duration": 0.043273,
     "end_time": "2023-01-19T00:02:11.044448",
     "exception": false,
     "start_time": "2023-01-19T00:02:11.001175",
     "status": "completed"
    },
    "tags": []
   },
   "outputs": [],
   "source": [
    "predictions = np.array(predictions).mean(0)"
   ]
  },
  {
   "cell_type": "code",
   "execution_count": 34,
   "id": "f8f4e7c7",
   "metadata": {
    "execution": {
     "iopub.execute_input": "2023-01-19T00:02:11.092942Z",
     "iopub.status.busy": "2023-01-19T00:02:11.092531Z",
     "iopub.status.idle": "2023-01-19T00:02:11.125810Z",
     "shell.execute_reply": "2023-01-19T00:02:11.124717Z"
    },
    "papermill": {
     "duration": 0.060024,
     "end_time": "2023-01-19T00:02:11.128745",
     "exception": false,
     "start_time": "2023-01-19T00:02:11.068721",
     "status": "completed"
    },
    "tags": []
   },
   "outputs": [],
   "source": [
    "dict = {'id':testID,'stroke':predictions}\n",
    "DF = pd.DataFrame.from_dict(dict)\n",
    "DF.to_csv('submissions.csv', index=False)"
   ]
  },
  {
   "cell_type": "code",
   "execution_count": 35,
   "id": "7d7261e4",
   "metadata": {
    "execution": {
     "iopub.execute_input": "2023-01-19T00:02:11.161213Z",
     "iopub.status.busy": "2023-01-19T00:02:11.160460Z",
     "iopub.status.idle": "2023-01-19T00:02:11.172835Z",
     "shell.execute_reply": "2023-01-19T00:02:11.171754Z"
    },
    "papermill": {
     "duration": 0.031337,
     "end_time": "2023-01-19T00:02:11.175440",
     "exception": false,
     "start_time": "2023-01-19T00:02:11.144103",
     "status": "completed"
    },
    "tags": []
   },
   "outputs": [
    {
     "data": {
      "text/html": [
       "<div>\n",
       "<style scoped>\n",
       "    .dataframe tbody tr th:only-of-type {\n",
       "        vertical-align: middle;\n",
       "    }\n",
       "\n",
       "    .dataframe tbody tr th {\n",
       "        vertical-align: top;\n",
       "    }\n",
       "\n",
       "    .dataframe thead th {\n",
       "        text-align: right;\n",
       "    }\n",
       "</style>\n",
       "<table border=\"1\" class=\"dataframe\">\n",
       "  <thead>\n",
       "    <tr style=\"text-align: right;\">\n",
       "      <th></th>\n",
       "      <th>id</th>\n",
       "      <th>stroke</th>\n",
       "    </tr>\n",
       "  </thead>\n",
       "  <tbody>\n",
       "    <tr>\n",
       "      <th>0</th>\n",
       "      <td>15304</td>\n",
       "      <td>0.406526</td>\n",
       "    </tr>\n",
       "    <tr>\n",
       "      <th>1</th>\n",
       "      <td>15305</td>\n",
       "      <td>0.755494</td>\n",
       "    </tr>\n",
       "    <tr>\n",
       "      <th>2</th>\n",
       "      <td>15306</td>\n",
       "      <td>0.012748</td>\n",
       "    </tr>\n",
       "    <tr>\n",
       "      <th>3</th>\n",
       "      <td>15307</td>\n",
       "      <td>0.477484</td>\n",
       "    </tr>\n",
       "    <tr>\n",
       "      <th>4</th>\n",
       "      <td>15308</td>\n",
       "      <td>0.104453</td>\n",
       "    </tr>\n",
       "    <tr>\n",
       "      <th>...</th>\n",
       "      <td>...</td>\n",
       "      <td>...</td>\n",
       "    </tr>\n",
       "    <tr>\n",
       "      <th>10199</th>\n",
       "      <td>25503</td>\n",
       "      <td>0.026389</td>\n",
       "    </tr>\n",
       "    <tr>\n",
       "      <th>10200</th>\n",
       "      <td>25504</td>\n",
       "      <td>0.216801</td>\n",
       "    </tr>\n",
       "    <tr>\n",
       "      <th>10201</th>\n",
       "      <td>25505</td>\n",
       "      <td>0.012237</td>\n",
       "    </tr>\n",
       "    <tr>\n",
       "      <th>10202</th>\n",
       "      <td>25506</td>\n",
       "      <td>0.053348</td>\n",
       "    </tr>\n",
       "    <tr>\n",
       "      <th>10203</th>\n",
       "      <td>25507</td>\n",
       "      <td>0.011387</td>\n",
       "    </tr>\n",
       "  </tbody>\n",
       "</table>\n",
       "<p>10204 rows × 2 columns</p>\n",
       "</div>"
      ],
      "text/plain": [
       "          id    stroke\n",
       "0      15304  0.406526\n",
       "1      15305  0.755494\n",
       "2      15306  0.012748\n",
       "3      15307  0.477484\n",
       "4      15308  0.104453\n",
       "...      ...       ...\n",
       "10199  25503  0.026389\n",
       "10200  25504  0.216801\n",
       "10201  25505  0.012237\n",
       "10202  25506  0.053348\n",
       "10203  25507  0.011387\n",
       "\n",
       "[10204 rows x 2 columns]"
      ]
     },
     "execution_count": 35,
     "metadata": {},
     "output_type": "execute_result"
    }
   ],
   "source": [
    "DF"
   ]
  }
 ],
 "metadata": {
  "kernelspec": {
   "display_name": "Python 3",
   "language": "python",
   "name": "python3"
  },
  "language_info": {
   "codemirror_mode": {
    "name": "ipython",
    "version": 3
   },
   "file_extension": ".py",
   "mimetype": "text/x-python",
   "name": "python",
   "nbconvert_exporter": "python",
   "pygments_lexer": "ipython3",
   "version": "3.7.6 (tags/v3.7.6:43364a7ae0, Dec 19 2019, 00:42:30) [MSC v.1916 64 bit (AMD64)]"
  },
  "papermill": {
   "default_parameters": {},
   "duration": 17.567499,
   "end_time": "2023-01-19T00:02:12.013594",
   "environment_variables": {},
   "exception": null,
   "input_path": "__notebook__.ipynb",
   "output_path": "__notebook__.ipynb",
   "parameters": {},
   "start_time": "2023-01-19T00:01:54.446095",
   "version": "2.3.4"
  },
  "vscode": {
   "interpreter": {
    "hash": "81fd45a322c4b2d451393a5b52a28daf79619dc33016eafab4bcda4058aeda46"
   }
  }
 },
 "nbformat": 4,
 "nbformat_minor": 5
}
